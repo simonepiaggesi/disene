{
 "cells": [
  {
   "cell_type": "code",
   "execution_count": 1,
   "id": "81108461",
   "metadata": {
    "tags": []
   },
   "outputs": [],
   "source": [
    "%matplotlib inline\n",
    "import numpy as np\n",
    "import networkx as nx\n",
    "import matplotlib.pyplot as plt\n",
    "import scipy as sp\n",
    "import scipy.io"
   ]
  },
  {
   "cell_type": "code",
   "execution_count": 2,
   "id": "93eec9cd-f836-4e0e-839b-6201bf5662a6",
   "metadata": {},
   "outputs": [],
   "source": [
    "from utils import *"
   ]
  },
  {
   "cell_type": "code",
   "execution_count": 3,
   "id": "9aa8b4c6-8bb5-4a37-82c6-8e0a47842ee3",
   "metadata": {},
   "outputs": [
    {
     "name": "stdout",
     "output_type": "stream",
     "text": [
      "/home/spiaggesi/disene/exps/synth\n"
     ]
    }
   ],
   "source": [
    "cd synth/"
   ]
  },
  {
   "cell_type": "markdown",
   "id": "039aefb3-7472-4807-810d-e48dfd2e48d0",
   "metadata": {},
   "source": [
    "# DiSeNE "
   ]
  },
  {
   "cell_type": "code",
   "execution_count": 4,
   "id": "e946599a-5ff7-4b23-985b-115c000b76b1",
   "metadata": {},
   "outputs": [],
   "source": [
    "#model:    \"isgc\" (DiSe-GAE), \"imlp\" (DiSe-FCAE)\n",
    "#dataset:  \"ring_of_cliques\", \"stochastic_block_model\", \"ba_cliques\", \"er_cliques\""
   ]
  },
  {
   "cell_type": "code",
   "execution_count": 5,
   "id": "c574bfe9-a85b-4fc1-a160-9eba3f858992",
   "metadata": {},
   "outputs": [
    {
     "name": "stdout",
     "output_type": "stream",
     "text": [
      "ring_of_cliques_32_10 ISGC 128 128 0 embeddings saved\n",
      "ring_of_cliques_32_10 ISGC 128 128 0 dim. metrics saved\n",
      "ring_of_cliques_32_10 ISGC 128 128 0 pos. metrics saved\n",
      "ring_of_cliques_32_10 ISGC 128 128 0 task metrics saved\n"
     ]
    }
   ],
   "source": [
    "!python exp_disene.py --runs=1 --model='isgc' --dataset='ring_of_cliques'"
   ]
  },
  {
   "cell_type": "code",
   "execution_count": 6,
   "id": "698c5006-13ac-4885-976c-9951d60dae69",
   "metadata": {},
   "outputs": [],
   "source": [
    "D_hid = 128\n",
    "D_out = 128"
   ]
  },
  {
   "cell_type": "code",
   "execution_count": 7,
   "id": "4b4419c7-77a1-4345-8ea4-ef2eb1b3f4b6",
   "metadata": {
    "scrolled": true
   },
   "outputs": [],
   "source": [
    "emb_scores = np.load(f'../../output/synth/isgc-walks-featureless-1hops-5window/linearshap_metrics/ring_of_cliques_32_10_ISGC_{D_hid}dims_{D_out}dims.0.scores.npz', allow_pickle=True)\n",
    "emb_dist = np.load(f'../../output/synth/isgc-walks-featureless-1hops-5window/linearshap_metrics/ring_of_cliques_32_10_ISGC_{D_hid}dims_{D_out}dims.0.spath.npz', allow_pickle=True)"
   ]
  },
  {
   "cell_type": "code",
   "execution_count": 8,
   "id": "463dc12d-f87a-4e4e-8637-95739988b013",
   "metadata": {},
   "outputs": [],
   "source": [
    "Z = np.load(f'../../output/synth/isgc-walks-featureless-1hops-5window/ring_of_cliques_32_10_ISGC_{D_hid}dims_{D_out}dims.0.npz', allow_pickle=True)['arr_0']\n",
    "emb_masks = np.load(f'../../output/synth/isgc-walks-featureless-1hops-5window/linearshap_metrics/ring_of_cliques_32_10_ISGC_{D_hid}dims_{D_out}dims.0.masks.npz', allow_pickle=True)['arr_0']"
   ]
  },
  {
   "cell_type": "code",
   "execution_count": 9,
   "id": "09ca4b07-7bc2-43f1-80ba-f049b36116d3",
   "metadata": {},
   "outputs": [],
   "source": [
    "i_task = np.load(f'../../output/synth/isgc-walks-featureless-1hops-5window/shap_metrics/ring_of_cliques_32_10_ISGC_{D_hid}dims_{D_out}dims.0.linear_task.npz', allow_pickle=True)\n",
    "i_scores = np.load(f'../../output/synth/isgc-walks-featureless-1hops-5window/shap_metrics/ring_of_cliques_32_10_ISGC_{D_hid}dims_{D_out}dims.0.linear_scores.npz', allow_pickle=True)\n",
    "i_masks = np.load(f'../../output/synth/isgc-walks-featureless-1hops-5window/shap_metrics/ring_of_cliques_32_10_ISGC_{D_hid}dims_{D_out}dims.0.linear_masks.npz', allow_pickle=True)['arr_0']"
   ]
  },
  {
   "cell_type": "markdown",
   "id": "6089480f-b5c0-4790-bbc6-489a43e283ad",
   "metadata": {},
   "source": [
    "#### Comprehensibility and Sparsity"
   ]
  },
  {
   "cell_type": "code",
   "execution_count": 10,
   "id": "9805765a-194d-4cf1-b413-88b02107427c",
   "metadata": {},
   "outputs": [
    {
     "name": "stdout",
     "output_type": "stream",
     "text": [
      "comprehensibility:  0.9676\n",
      "sparsity:  0.4756\n"
     ]
    }
   ],
   "source": [
    "print('comprehensibility: ', round(emb_scores['f1_weighted'].max(axis=0).mean(), 4))\n",
    "print('sparsity: ', round(1.-emb_scores['dim_ent_weighted'].mean(), 4))"
   ]
  },
  {
   "cell_type": "markdown",
   "id": "15094f9a-9484-43c2-b8d2-4b2b4d49404f",
   "metadata": {},
   "source": [
    "#### Overlap consistency"
   ]
  },
  {
   "cell_type": "code",
   "execution_count": 11,
   "id": "6df78a61-690d-472c-a2de-87ba579fc5ef",
   "metadata": {},
   "outputs": [
    {
     "name": "stdout",
     "output_type": "stream",
     "text": [
      "overlap consistency:  0.9706\n"
     ]
    }
   ],
   "source": [
    "from scipy.stats import pearsonr\n",
    "from scipy.spatial.distance import pdist, squareform\n",
    "def compute_correlation(x,y):\n",
    "    if x.shape[0]<2:\n",
    "        return 0.\n",
    "    else:\n",
    "        return np.nan_to_num(np.abs(pearsonr(x,y)[0]))\n",
    "        \n",
    "z_corr = np.nan_to_num(np.abs(1. - pdist(Z.T, 'correlation')))\n",
    "print('overlap consistency: ', round(compute_correlation(z_corr[z_corr!=0.], emb_scores['jaccard_score'][z_corr!=0.]), 4))"
   ]
  },
  {
   "cell_type": "markdown",
   "id": "46205a99-6a16-4885-98d3-d5511495da14",
   "metadata": {},
   "source": [
    "#### Positional Coherence"
   ]
  },
  {
   "cell_type": "code",
   "execution_count": 12,
   "id": "efdb25bc-e3ba-45e1-a9d8-1b009353fa74",
   "metadata": {},
   "outputs": [],
   "source": [
    "edge_idx = emb_scores['edge_index']\n",
    "dims, edges = np.where(emb_masks>THRESH)\n",
    "Z = Z[np.unique(edge_idx)][:, np.unique(dims)].T"
   ]
  },
  {
   "cell_type": "code",
   "execution_count": 13,
   "id": "4b22f709",
   "metadata": {},
   "outputs": [
    {
     "name": "stdout",
     "output_type": "stream",
     "text": [
      "positional coherence:  6.7399\n"
     ]
    }
   ],
   "source": [
    "d_corr = np.array([compute_correlation(Z[d], emb_dist['sum'][d]) for d in range(Z.shape[0])])\n",
    "d_corr_rand = np.array([[compute_correlation(Z[d], emb_dist['sum'][j]) for d,j in zip(range(Z.shape[0]), np.random.permutation(range(Z.shape[0])))]\n",
    "                       for _ in range(5)])\n",
    "print('positional coherence: ', round(np.mean(d_corr)/np.mean(d_corr_rand+THRESH), 4))"
   ]
  },
  {
   "cell_type": "markdown",
   "id": "383ccad1-64c8-4097-acc5-9c58dc18e488",
   "metadata": {},
   "source": [
    "#### Plausibility"
   ]
  },
  {
   "cell_type": "code",
   "execution_count": 14,
   "id": "86d28f92-840c-4d8c-888f-75cf84808fd4",
   "metadata": {},
   "outputs": [
    {
     "name": "stdout",
     "output_type": "stream",
     "text": [
      "plausibility:  0.9865\n"
     ]
    }
   ],
   "source": [
    "print('plausibility: ', round(compute_plausibility_score(i_masks, i_scores, i_task), 4))"
   ]
  },
  {
   "cell_type": "markdown",
   "id": "fad33121-f3b2-44b6-a57f-a025ba73b5e2",
   "metadata": {
    "jp-MarkdownHeadingCollapsed": true
   },
   "source": []
  },
  {
   "cell_type": "markdown",
   "id": "7142120c-32d0-4918-9317-df8c224fe6c5",
   "metadata": {},
   "source": [
    "# DeepWalk, InfWalk, GAE, GraphSAGE "
   ]
  },
  {
   "cell_type": "code",
   "execution_count": 15,
   "id": "69b2b919-2b74-4b0d-802f-c7ff07f06222",
   "metadata": {},
   "outputs": [],
   "source": [
    "#model:    \"deepwalk\", \"infwalk\", \"gae\", \"sage\"\n",
    "#dataset:  \"ring_of_cliques\", \"stochastic_block_model\", \"ba_cliques\", \"er_cliques\""
   ]
  },
  {
   "cell_type": "code",
   "execution_count": 16,
   "id": "958066b8-f209-45ec-a3e8-bb075bfc52ab",
   "metadata": {
    "scrolled": true
   },
   "outputs": [
    {
     "name": "stdout",
     "output_type": "stream",
     "text": [
      "ring_of_cliques_32_10 GAE 2 0 embeddings saved\n",
      "ring_of_cliques_32_10 GAE 2 0 dim. metrics saved\n",
      "ring_of_cliques_32_10 GAE 2 0 pos. metrics saved\n",
      "ring_of_cliques_32_10 GAE 2 0 task metrics saved\n",
      "ring_of_cliques_32_10 GAE 4 0 embeddings saved\n",
      "ring_of_cliques_32_10 GAE 4 0 dim. metrics saved\n",
      "ring_of_cliques_32_10 GAE 4 0 pos. metrics saved\n",
      "ring_of_cliques_32_10 GAE 4 0 task metrics saved\n",
      "ring_of_cliques_32_10 GAE 8 0 embeddings saved\n",
      "ring_of_cliques_32_10 GAE 8 0 dim. metrics saved\n",
      "ring_of_cliques_32_10 GAE 8 0 pos. metrics saved\n",
      "ring_of_cliques_32_10 GAE 8 0 task metrics saved\n",
      "ring_of_cliques_32_10 GAE 16 0 embeddings saved\n",
      "ring_of_cliques_32_10 GAE 16 0 dim. metrics saved\n",
      "ring_of_cliques_32_10 GAE 16 0 pos. metrics saved\n",
      "ring_of_cliques_32_10 GAE 16 0 task metrics saved\n",
      "ring_of_cliques_32_10 GAE 32 0 embeddings saved\n",
      "ring_of_cliques_32_10 GAE 32 0 dim. metrics saved\n",
      "ring_of_cliques_32_10 GAE 32 0 pos. metrics saved\n",
      "ring_of_cliques_32_10 GAE 32 0 task metrics saved\n",
      "ring_of_cliques_32_10 GAE 64 0 embeddings saved\n",
      "ring_of_cliques_32_10 GAE 64 0 dim. metrics saved\n",
      "ring_of_cliques_32_10 GAE 64 0 pos. metrics saved\n",
      "ring_of_cliques_32_10 GAE 64 0 task metrics saved\n",
      "ring_of_cliques_32_10 GAE 128 0 embeddings saved\n",
      "ring_of_cliques_32_10 GAE 128 0 dim. metrics saved\n",
      "ring_of_cliques_32_10 GAE 128 0 pos. metrics saved\n",
      "ring_of_cliques_32_10 GAE 128 0 task metrics saved\n",
      "ring_of_cliques_32_10 GAE 256 0 embeddings saved\n",
      "ring_of_cliques_32_10 GAE 256 0 dim. metrics saved\n",
      "ring_of_cliques_32_10 GAE 256 0 pos. metrics saved\n",
      "ring_of_cliques_32_10 GAE 256 0 task metrics saved\n",
      "ring_of_cliques_32_10 GAE 512 0 embeddings saved\n",
      "ring_of_cliques_32_10 GAE 512 0 dim. metrics saved\n",
      "ring_of_cliques_32_10 GAE 512 0 pos. metrics saved\n",
      "ring_of_cliques_32_10 GAE 512 0 task metrics saved\n"
     ]
    }
   ],
   "source": [
    "!python exp_baseline.py --runs=1 --model='gae' --dataset='ring_of_cliques'"
   ]
  },
  {
   "cell_type": "code",
   "execution_count": 17,
   "id": "90fcff95-189a-4baa-a9a3-235e649464a1",
   "metadata": {},
   "outputs": [],
   "source": [
    "D_out = 128"
   ]
  },
  {
   "cell_type": "code",
   "execution_count": 18,
   "id": "546f0335-49ae-4689-9a22-51fdaeb1e66b",
   "metadata": {},
   "outputs": [],
   "source": [
    "emb_scores = np.load(f'../../output/synth/gae-featureless/linearshap_metrics/ring_of_cliques_32_10_GAE_{D_out}dims.0.scores.npz', allow_pickle=True)\n",
    "emb_dist = np.load(f'../../output/synth/gae-featureless/linearshap_metrics/ring_of_cliques_32_10_GAE_{D_out}dims.0.spath.npz', allow_pickle=True)"
   ]
  },
  {
   "cell_type": "code",
   "execution_count": 19,
   "id": "76bc5a7c-7e6f-4721-aa93-eb3a224eb9a2",
   "metadata": {},
   "outputs": [],
   "source": [
    "Z = np.load(f'../../output/synth/gae-featureless/ring_of_cliques_32_10_GAE_{D_out}dims.0.npz', allow_pickle=True)['arr_0']\n",
    "emb_masks = np.load(f'../../output/synth/gae-featureless/linearshap_metrics/ring_of_cliques_32_10_GAE_{D_out}dims.0.masks.npz', allow_pickle=True)['arr_0']"
   ]
  },
  {
   "cell_type": "code",
   "execution_count": 20,
   "id": "426ce3b0-5514-4a5d-b313-db7672c6ea77",
   "metadata": {},
   "outputs": [],
   "source": [
    "i_task = np.load(f'../../output/synth/gae-featureless/shap_metrics/ring_of_cliques_32_10_GAE_{D_out}dims.0.linear_task.npz', allow_pickle=True)\n",
    "i_scores = np.load(f'../../output/synth/gae-featureless/shap_metrics/ring_of_cliques_32_10_GAE_{D_out}dims.0.linear_scores.npz', allow_pickle=True)\n",
    "i_masks = np.load(f'../../output/synth/gae-featureless/shap_metrics/ring_of_cliques_32_10_GAE_{D_out}dims.0.linear_masks.npz', allow_pickle=True)['arr_0']"
   ]
  },
  {
   "cell_type": "markdown",
   "id": "d5b5852f-e039-48c9-9639-54f54560dde7",
   "metadata": {},
   "source": [
    "#### Comprehensibility and Sparsity"
   ]
  },
  {
   "cell_type": "code",
   "execution_count": 21,
   "id": "b96ba627-a63d-450e-b02b-b456ebe6f7c8",
   "metadata": {},
   "outputs": [
    {
     "name": "stdout",
     "output_type": "stream",
     "text": [
      "comprehensibility:  0.2677\n",
      "sparsity:  0.1462\n"
     ]
    }
   ],
   "source": [
    "print('comprehensibility: ', round(emb_scores['f1_weighted'].max(axis=0).mean(), 4))\n",
    "print('sparsity: ', round(1.-emb_scores['dim_ent_weighted'].mean(), 4))"
   ]
  },
  {
   "cell_type": "markdown",
   "id": "aeadf6f7-26f8-4b59-a723-e451332ed6c0",
   "metadata": {},
   "source": [
    "#### Overlap consistency"
   ]
  },
  {
   "cell_type": "code",
   "execution_count": 22,
   "id": "c32c714c-aa37-4940-ab08-13bc032ddf55",
   "metadata": {},
   "outputs": [
    {
     "name": "stdout",
     "output_type": "stream",
     "text": [
      "overlap consistency:  0.1667\n"
     ]
    }
   ],
   "source": [
    "from scipy.stats import pearsonr\n",
    "from scipy.spatial.distance import pdist, squareform\n",
    "def compute_correlation(x,y):\n",
    "    if x.shape[0]<2:\n",
    "        return 0.\n",
    "    else:\n",
    "        return np.nan_to_num(np.abs(pearsonr(x,y)[0]))\n",
    "        \n",
    "z_corr = np.nan_to_num(np.abs(1. - pdist(Z.T, 'correlation')))\n",
    "print('overlap consistency: ', round(compute_correlation(z_corr[z_corr!=0.], emb_scores['jaccard_score'][z_corr!=0.]), 4))"
   ]
  },
  {
   "cell_type": "markdown",
   "id": "b8391bf2-67ce-4601-83f0-1b4269ee73ad",
   "metadata": {},
   "source": [
    "#### Positional Coherence"
   ]
  },
  {
   "cell_type": "code",
   "execution_count": 23,
   "id": "8a54ff89-9f9a-4254-8ed1-eed207935461",
   "metadata": {},
   "outputs": [],
   "source": [
    "edge_idx = emb_scores['edge_index']\n",
    "dims, edges = np.where(emb_masks>THRESH)\n",
    "Z = Z[np.unique(edge_idx)][:, np.unique(dims)].T"
   ]
  },
  {
   "cell_type": "code",
   "execution_count": 24,
   "id": "4efba7b6-c9a4-4bd0-998a-d25cb00ed6b3",
   "metadata": {},
   "outputs": [
    {
     "name": "stdout",
     "output_type": "stream",
     "text": [
      "positional coherence:  0.9031\n"
     ]
    }
   ],
   "source": [
    "d_corr = np.array([compute_correlation(Z[d], emb_dist['sum'][d]) for d in range(Z.shape[0])])\n",
    "d_corr_rand = np.array([[compute_correlation(Z[d], emb_dist['sum'][j]) for d,j in zip(range(Z.shape[0]), np.random.permutation(range(Z.shape[0])))]\n",
    "                       for _ in range(5)])\n",
    "print('positional coherence: ', round(np.mean(d_corr)/np.mean(d_corr_rand+THRESH), 4))"
   ]
  },
  {
   "cell_type": "markdown",
   "id": "bf29b86a-2faa-4507-95cc-248e66214ba1",
   "metadata": {},
   "source": [
    "#### Plausibility"
   ]
  },
  {
   "cell_type": "code",
   "execution_count": 25,
   "id": "98a729c1-439b-4f7b-b322-021b365eca6e",
   "metadata": {},
   "outputs": [
    {
     "name": "stdout",
     "output_type": "stream",
     "text": [
      "plausibility:  0.1608\n"
     ]
    }
   ],
   "source": [
    "print('plausibility: ', round(compute_plausibility_score(i_masks, i_scores, i_task), 4))"
   ]
  },
  {
   "cell_type": "markdown",
   "id": "49bcd11f-72d1-4a53-a9f1-681c5a4e8a48",
   "metadata": {},
   "source": [
    "# DeepWalk+DINE, GAE+DINE"
   ]
  },
  {
   "cell_type": "code",
   "execution_count": 26,
   "id": "3d456f46-f829-419f-a39a-16424de5f102",
   "metadata": {},
   "outputs": [],
   "source": [
    "#model:    \"deepwalk\", \"gae\"\n",
    "#dataset:  \"ring_of_cliques\", \"stochastic_block_model\", \"ba_cliques\", \"er_cliques\""
   ]
  },
  {
   "cell_type": "code",
   "execution_count": 27,
   "id": "1aab61ad-4157-4d84-8284-c12d8a1a62b2",
   "metadata": {
    "scrolled": true
   },
   "outputs": [
    {
     "name": "stdout",
     "output_type": "stream",
     "text": [
      "ring_of_cliques_32_10 GAE 8 128 0 dine embeddings saved\n",
      "ring_of_cliques_32_10 GAE 8 128 0 dim. metrics saved\n",
      "ring_of_cliques_32_10 GAE 8 128 0 pos. metrics saved\n",
      "ring_of_cliques_32_10 GAE 8 128 0 task metrics saved\n",
      "ring_of_cliques_32_10 GAE 16 128 0 dine embeddings saved\n",
      "ring_of_cliques_32_10 GAE 16 128 0 dim. metrics saved\n",
      "ring_of_cliques_32_10 GAE 16 128 0 pos. metrics saved\n",
      "ring_of_cliques_32_10 GAE 16 128 0 task metrics saved\n",
      "ring_of_cliques_32_10 GAE 32 128 0 dine embeddings saved\n",
      "ring_of_cliques_32_10 GAE 32 128 0 dim. metrics saved\n",
      "ring_of_cliques_32_10 GAE 32 128 0 pos. metrics saved\n",
      "ring_of_cliques_32_10 GAE 32 128 0 task metrics saved\n",
      "ring_of_cliques_32_10 GAE 64 128 0 dine embeddings saved\n",
      "ring_of_cliques_32_10 GAE 64 128 0 dim. metrics saved\n",
      "ring_of_cliques_32_10 GAE 64 128 0 pos. metrics saved\n",
      "ring_of_cliques_32_10 GAE 64 128 0 task metrics saved\n",
      "ring_of_cliques_32_10 GAE 128 128 0 dine embeddings saved\n",
      "ring_of_cliques_32_10 GAE 128 128 0 dim. metrics saved\n",
      "ring_of_cliques_32_10 GAE 128 128 0 pos. metrics saved\n",
      "ring_of_cliques_32_10 GAE 128 128 0 task metrics saved\n",
      "ring_of_cliques_32_10 GAE 256 128 0 dine embeddings saved\n",
      "ring_of_cliques_32_10 GAE 256 128 0 dim. metrics saved\n",
      "ring_of_cliques_32_10 GAE 256 128 0 pos. metrics saved\n",
      "ring_of_cliques_32_10 GAE 256 128 0 task metrics saved\n",
      "ring_of_cliques_32_10 GAE 512 128 0 dine embeddings saved\n",
      "ring_of_cliques_32_10 GAE 512 128 0 dim. metrics saved\n",
      "ring_of_cliques_32_10 GAE 512 128 0 pos. metrics saved\n",
      "ring_of_cliques_32_10 GAE 512 128 0 task metrics saved\n"
     ]
    }
   ],
   "source": [
    "!python exp_dine.py --runs=1 --model='gae' --dataset='ring_of_cliques'"
   ]
  },
  {
   "cell_type": "code",
   "execution_count": 28,
   "id": "387fe10f-bb72-4c6b-946d-8045b2a3953e",
   "metadata": {},
   "outputs": [],
   "source": [
    "D_in = 128\n",
    "D_out = 128"
   ]
  },
  {
   "cell_type": "code",
   "execution_count": 29,
   "id": "6de16e1c-d1d9-4c6c-a682-0f202a46314e",
   "metadata": {},
   "outputs": [],
   "source": [
    "emb_scores = np.load(f'../../output/synth/gae+dine-featureless/linearshap_metrics/ring_of_cliques_32_10_GAE_{D_in}dims.DINE_{D_out}dims.0.scores.npz', allow_pickle=True)\n",
    "emb_dist = np.load(f'../../output/synth/gae+dine-featureless/linearshap_metrics/ring_of_cliques_32_10_GAE_{D_in}dims.DINE_{D_out}dims.0.spath.npz', allow_pickle=True)"
   ]
  },
  {
   "cell_type": "code",
   "execution_count": 30,
   "id": "99a9fa13-40b0-4a06-a39a-f369eefec80a",
   "metadata": {},
   "outputs": [],
   "source": [
    "Z = np.load(f'../../output/synth/gae+dine-featureless/ring_of_cliques_32_10_GAE_{D_in}dims.DINE_{D_out}dims.0.npz', allow_pickle=True)['arr_0']\n",
    "emb_masks = np.load(f'../../output/synth/gae+dine-featureless/linearshap_metrics/ring_of_cliques_32_10_GAE_{D_in}dims.DINE_{D_out}dims.0.masks.npz', allow_pickle=True)['arr_0']"
   ]
  },
  {
   "cell_type": "code",
   "execution_count": 31,
   "id": "84fce74a-8cd2-47d9-aaa9-2d83a256f58b",
   "metadata": {},
   "outputs": [],
   "source": [
    "i_task = np.load(f'../../output/synth/gae+dine-featureless/shap_metrics/ring_of_cliques_32_10_GAE_{D_in}dims.DINE_{D_out}dims.0.linear_task.npz', allow_pickle=True)\n",
    "i_scores = np.load(f'../../output/synth/gae+dine-featureless/shap_metrics/ring_of_cliques_32_10_GAE_{D_in}dims.DINE_{D_out}dims.0.linear_scores.npz', allow_pickle=True)\n",
    "i_masks = np.load(f'../../output/synth/gae+dine-featureless/shap_metrics/ring_of_cliques_32_10_GAE_{D_in}dims.DINE_{D_out}dims.0.linear_masks.npz', allow_pickle=True)['arr_0']"
   ]
  },
  {
   "cell_type": "markdown",
   "id": "b30c0a89-2a18-4d1d-839a-52a64731ec9c",
   "metadata": {},
   "source": [
    "#### Comprehensibility and Sparsity"
   ]
  },
  {
   "cell_type": "code",
   "execution_count": 32,
   "id": "e075a8d8-d651-4f1c-86fd-1166f873f19b",
   "metadata": {},
   "outputs": [
    {
     "name": "stdout",
     "output_type": "stream",
     "text": [
      "comprehensibility:  0.5572\n",
      "sparsity:  0.3044\n"
     ]
    }
   ],
   "source": [
    "print('comprehensibility: ', round(emb_scores['f1_weighted'].max(axis=0).mean(), 4))\n",
    "print('sparsity: ', round(1.-emb_scores['dim_ent_weighted'].mean(), 4))"
   ]
  },
  {
   "cell_type": "markdown",
   "id": "52aee032-2cfc-4434-8517-e28a18f8a01d",
   "metadata": {},
   "source": [
    "#### Overlap consistency"
   ]
  },
  {
   "cell_type": "code",
   "execution_count": 33,
   "id": "f7afa037-da76-4e29-9949-14b0fa4820e2",
   "metadata": {},
   "outputs": [
    {
     "name": "stdout",
     "output_type": "stream",
     "text": [
      "overlap consistency:  0.4231\n"
     ]
    }
   ],
   "source": [
    "from scipy.stats import pearsonr\n",
    "from scipy.spatial.distance import pdist, squareform\n",
    "def compute_correlation(x,y):\n",
    "    if x.shape[0]<2:\n",
    "        return 0.\n",
    "    else:\n",
    "        return np.nan_to_num(np.abs(pearsonr(x,y)[0]))\n",
    "        \n",
    "z_corr = np.nan_to_num(np.abs(1. - pdist(Z.T, 'correlation')))\n",
    "print('overlap consistency: ', round(compute_correlation(z_corr[z_corr!=0.], emb_scores['jaccard_score'][z_corr!=0.]), 4))"
   ]
  },
  {
   "cell_type": "markdown",
   "id": "15621dbe-3336-44c9-8372-81ee47278a91",
   "metadata": {},
   "source": [
    "#### Positional Coherence"
   ]
  },
  {
   "cell_type": "code",
   "execution_count": 34,
   "id": "d3baec1b-e8d4-4b18-8a97-a40fc5b7b433",
   "metadata": {},
   "outputs": [],
   "source": [
    "edge_idx = emb_scores['edge_index']\n",
    "dims, edges = np.where(emb_masks>THRESH)\n",
    "Z = Z[np.unique(edge_idx)][:, np.unique(dims)].T"
   ]
  },
  {
   "cell_type": "code",
   "execution_count": 35,
   "id": "86383f89-266e-4bc9-b69f-fc667973ea5a",
   "metadata": {},
   "outputs": [
    {
     "name": "stdout",
     "output_type": "stream",
     "text": [
      "positional coherence:  4.1403\n"
     ]
    }
   ],
   "source": [
    "d_corr = np.array([compute_correlation(Z[d], emb_dist['sum'][d]) for d in range(Z.shape[0])])\n",
    "d_corr_rand = np.array([[compute_correlation(Z[d], emb_dist['sum'][j]) for d,j in zip(range(Z.shape[0]), np.random.permutation(range(Z.shape[0])))]\n",
    "                       for _ in range(5)])\n",
    "print('positional coherence: ', round(np.mean(d_corr)/np.mean(d_corr_rand+THRESH), 4))"
   ]
  },
  {
   "cell_type": "markdown",
   "id": "f727e51d-c1c3-4ad3-8616-59f8d0b5d651",
   "metadata": {},
   "source": [
    "#### Plausibility"
   ]
  },
  {
   "cell_type": "code",
   "execution_count": 36,
   "id": "33472e45-571b-40dd-835e-c46461c0c370",
   "metadata": {},
   "outputs": [
    {
     "name": "stdout",
     "output_type": "stream",
     "text": [
      "plausibility:  0.5188\n"
     ]
    }
   ],
   "source": [
    "print('plausibility: ', round(compute_plausibility_score(i_masks, i_scores, i_task), 4))"
   ]
  },
  {
   "cell_type": "code",
   "execution_count": null,
   "id": "3cf6c472-724d-4d58-9914-9494f950e5d5",
   "metadata": {},
   "outputs": [],
   "source": []
  }
 ],
 "metadata": {
  "kernelspec": {
   "display_name": "Python 3 (ipykernel)",
   "language": "python",
   "name": "python3"
  },
  "language_info": {
   "codemirror_mode": {
    "name": "ipython",
    "version": 3
   },
   "file_extension": ".py",
   "mimetype": "text/x-python",
   "name": "python",
   "nbconvert_exporter": "python",
   "pygments_lexer": "ipython3",
   "version": "3.11.5"
  }
 },
 "nbformat": 4,
 "nbformat_minor": 5
}
